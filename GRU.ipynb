{
 "cells": [
  {
   "cell_type": "code",
   "execution_count": 2,
   "metadata": {
    "pycharm": {
     "is_executing": true
    }
   },
   "outputs": [],
   "source": [
    "import numpy as np\n",
    "import pandas as pd\n",
    "from matplotlib import pyplot as plt"
   ]
  },
  {
   "cell_type": "code",
   "execution_count": 3,
   "metadata": {},
   "outputs": [],
   "source": [
    "data = pd.read_csv('prices-split-adjusted.csv')"
   ]
  },
  {
   "cell_type": "code",
   "execution_count": 4,
   "metadata": {},
   "outputs": [
    {
     "data": {
      "text/html": [
       "<div>\n",
       "<style scoped>\n",
       "    .dataframe tbody tr th:only-of-type {\n",
       "        vertical-align: middle;\n",
       "    }\n",
       "\n",
       "    .dataframe tbody tr th {\n",
       "        vertical-align: top;\n",
       "    }\n",
       "\n",
       "    .dataframe thead th {\n",
       "        text-align: right;\n",
       "    }\n",
       "</style>\n",
       "<table border=\"1\" class=\"dataframe\">\n",
       "  <thead>\n",
       "    <tr style=\"text-align: right;\">\n",
       "      <th></th>\n",
       "      <th>date</th>\n",
       "      <th>symbol</th>\n",
       "      <th>open</th>\n",
       "      <th>close</th>\n",
       "      <th>low</th>\n",
       "      <th>high</th>\n",
       "      <th>volume</th>\n",
       "    </tr>\n",
       "  </thead>\n",
       "  <tbody>\n",
       "    <tr>\n",
       "      <th>0</th>\n",
       "      <td>2016-01-05</td>\n",
       "      <td>WLTW</td>\n",
       "      <td>123.430000</td>\n",
       "      <td>125.839996</td>\n",
       "      <td>122.309998</td>\n",
       "      <td>126.250000</td>\n",
       "      <td>2163600.0</td>\n",
       "    </tr>\n",
       "    <tr>\n",
       "      <th>1</th>\n",
       "      <td>2016-01-06</td>\n",
       "      <td>WLTW</td>\n",
       "      <td>125.239998</td>\n",
       "      <td>119.980003</td>\n",
       "      <td>119.940002</td>\n",
       "      <td>125.540001</td>\n",
       "      <td>2386400.0</td>\n",
       "    </tr>\n",
       "    <tr>\n",
       "      <th>2</th>\n",
       "      <td>2016-01-07</td>\n",
       "      <td>WLTW</td>\n",
       "      <td>116.379997</td>\n",
       "      <td>114.949997</td>\n",
       "      <td>114.930000</td>\n",
       "      <td>119.739998</td>\n",
       "      <td>2489500.0</td>\n",
       "    </tr>\n",
       "    <tr>\n",
       "      <th>3</th>\n",
       "      <td>2016-01-08</td>\n",
       "      <td>WLTW</td>\n",
       "      <td>115.480003</td>\n",
       "      <td>116.620003</td>\n",
       "      <td>113.500000</td>\n",
       "      <td>117.440002</td>\n",
       "      <td>2006300.0</td>\n",
       "    </tr>\n",
       "    <tr>\n",
       "      <th>4</th>\n",
       "      <td>2016-01-11</td>\n",
       "      <td>WLTW</td>\n",
       "      <td>117.010002</td>\n",
       "      <td>114.970001</td>\n",
       "      <td>114.089996</td>\n",
       "      <td>117.330002</td>\n",
       "      <td>1408600.0</td>\n",
       "    </tr>\n",
       "  </tbody>\n",
       "</table>\n",
       "</div>"
      ],
      "text/plain": [
       "         date symbol        open       close         low        high  \\\n",
       "0  2016-01-05   WLTW  123.430000  125.839996  122.309998  126.250000   \n",
       "1  2016-01-06   WLTW  125.239998  119.980003  119.940002  125.540001   \n",
       "2  2016-01-07   WLTW  116.379997  114.949997  114.930000  119.739998   \n",
       "3  2016-01-08   WLTW  115.480003  116.620003  113.500000  117.440002   \n",
       "4  2016-01-11   WLTW  117.010002  114.970001  114.089996  117.330002   \n",
       "\n",
       "      volume  \n",
       "0  2163600.0  \n",
       "1  2386400.0  \n",
       "2  2489500.0  \n",
       "3  2006300.0  \n",
       "4  1408600.0  "
      ]
     },
     "execution_count": 4,
     "metadata": {},
     "output_type": "execute_result"
    }
   ],
   "source": [
    "data.head()"
   ]
  },
  {
   "cell_type": "code",
   "execution_count": 5,
   "metadata": {},
   "outputs": [
    {
     "data": {
      "text/plain": [
       "(851264, 7)"
      ]
     },
     "execution_count": 5,
     "metadata": {},
     "output_type": "execute_result"
    }
   ],
   "source": [
    "data.shape"
   ]
  },
  {
   "cell_type": "code",
   "execution_count": 6,
   "metadata": {},
   "outputs": [
    {
     "data": {
      "text/plain": [
       "array(['WLTW', 'A', 'AAL', 'AAP', 'AAPL', 'ABC', 'ABT', 'ACN', 'ADBE',\n",
       "       'ADI', 'ADM', 'ADP', 'ADS', 'ADSK', 'AEE', 'AEP', 'AES', 'AET',\n",
       "       'AFL', 'AGN', 'AIG', 'AIZ', 'AJG', 'AKAM', 'ALB', 'ALK', 'ALL',\n",
       "       'ALXN', 'AMAT', 'AME', 'AMG', 'AMGN', 'AMP', 'AMT', 'AMZN', 'AN',\n",
       "       'ANTM', 'AON', 'APA', 'APC', 'APD', 'APH', 'ARNC', 'ATVI', 'AVB',\n",
       "       'AVGO', 'AVY', 'AWK', 'AXP', 'AYI', 'AZO', 'BA', 'BAC', 'BAX',\n",
       "       'BBBY', 'BBT', 'BBY', 'BCR', 'BDX', 'BEN', 'BHI', 'BIIB', 'BK',\n",
       "       'BLK', 'BLL', 'BMY', 'BSX', 'BWA', 'BXP', 'C', 'CA', 'CAG', 'CAH',\n",
       "       'CAT', 'CB', 'CBG', 'CBS', 'CCI', 'CCL', 'CELG', 'CERN', 'CF',\n",
       "       'CHD', 'CHK', 'CHRW', 'CI', 'CINF', 'CL', 'CLX', 'CMA', 'CMCSA',\n",
       "       'CME', 'CMG', 'CMI', 'CMS', 'CNC', 'CNP', 'COF', 'COG', 'COH',\n",
       "       'COL', 'COO', 'COP', 'COST', 'CPB', 'CRM', 'CSCO', 'CSX', 'CTAS',\n",
       "       'CTL', 'CTSH', 'CTXS', 'CVS', 'CVX', 'CXO', 'D', 'DAL', 'DD', 'DE',\n",
       "       'DFS', 'DG', 'DGX', 'DHI', 'DHR', 'DIS', 'DISCA', 'DISCK', 'DLR',\n",
       "       'DLTR', 'DNB', 'DOV', 'DOW', 'DPS', 'DRI', 'DTE', 'DUK', 'DVA',\n",
       "       'DVN', 'EA', 'EBAY', 'ECL', 'ED', 'EFX', 'EIX', 'EL', 'EMN', 'EMR',\n",
       "       'ENDP', 'EOG', 'EQIX', 'EQR', 'EQT', 'ES', 'ESRX', 'ESS', 'ETFC',\n",
       "       'ETN', 'ETR', 'EW', 'EXC', 'EXPD', 'EXPE', 'EXR', 'F', 'FAST',\n",
       "       'FCX', 'FDX', 'FE', 'FFIV', 'FIS', 'FISV', 'FITB', 'FL', 'FLIR',\n",
       "       'FLR', 'FLS', 'FMC', 'FOX', 'FOXA', 'FRT', 'FSLR', 'FTI', 'FTR',\n",
       "       'GD', 'GE', 'GGP', 'GILD', 'GIS', 'GLW', 'GOOG', 'GOOGL', 'GPC',\n",
       "       'GPN', 'GPS', 'GRMN', 'GS', 'GT', 'GWW', 'HAL', 'HAR', 'HAS',\n",
       "       'HBAN', 'HBI', 'HCN', 'HCP', 'HD', 'HES', 'HIG', 'HOG', 'HOLX',\n",
       "       'HON', 'HP', 'HPQ', 'HRB', 'HRL', 'HRS', 'HSIC', 'HST', 'HSY',\n",
       "       'HUM', 'IBM', 'ICE', 'IDXX', 'IFF', 'ILMN', 'INTC', 'INTU', 'IP',\n",
       "       'IPG', 'IR', 'IRM', 'ISRG', 'ITW', 'IVZ', 'JBHT', 'JCI', 'JEC',\n",
       "       'JNJ', 'JNPR', 'JPM', 'JWN', 'K', 'KEY', 'KIM', 'KLAC', 'KMB',\n",
       "       'KMX', 'KO', 'KR', 'KSS', 'KSU', 'L', 'LB', 'LEG', 'LEN', 'LH',\n",
       "       'LKQ', 'LLL', 'LLTC', 'LLY', 'LMT', 'LNC', 'LNT', 'LOW', 'LRCX',\n",
       "       'LUK', 'LUV', 'LVLT', 'M', 'MA', 'MAA', 'MAC', 'MAR', 'MAS', 'MAT',\n",
       "       'MCD', 'MCHP', 'MCK', 'MCO', 'MDLZ', 'MDT', 'MET', 'MHK', 'MJN',\n",
       "       'MKC', 'MLM', 'MMC', 'MMM', 'MNST', 'MO', 'MON', 'MOS', 'MRK',\n",
       "       'MRO', 'MSFT', 'MSI', 'MTB', 'MTD', 'MU', 'MUR', 'MYL', 'NBL',\n",
       "       'NDAQ', 'NEE', 'NEM', 'NFLX', 'NFX', 'NI', 'NKE', 'NOC', 'NOV',\n",
       "       'NRG', 'NSC', 'NTAP', 'NTRS', 'NUE', 'NVDA', 'NWL', 'O', 'OKE',\n",
       "       'OMC', 'ORCL', 'ORLY', 'OXY', 'PAYX', 'PBCT', 'PBI', 'PCAR', 'PCG',\n",
       "       'PCLN', 'PDCO', 'PEG', 'PEP', 'PFE', 'PFG', 'PG', 'PGR', 'PH',\n",
       "       'PHM', 'PKI', 'PLD', 'PM', 'PNC', 'PNR', 'PNW', 'PPG', 'PPL',\n",
       "       'PRGO', 'PRU', 'PSA', 'PVH', 'PWR', 'PX', 'PXD', 'QCOM', 'R',\n",
       "       'RAI', 'RCL', 'REGN', 'RF', 'RHI', 'RHT', 'RIG', 'RL', 'ROK',\n",
       "       'ROP', 'ROST', 'RRC', 'RSG', 'RTN', 'SBUX', 'SCG', 'SCHW', 'SE',\n",
       "       'SEE', 'SHW', 'SIG', 'SJM', 'SLB', 'SLG', 'SNA', 'SNI', 'SO',\n",
       "       'SPG', 'SPGI', 'SPLS', 'SRCL', 'SRE', 'STI', 'STT', 'STX', 'STZ',\n",
       "       'SWK', 'SWKS', 'SWN', 'SYK', 'SYMC', 'SYY', 'T', 'TAP', 'TDC',\n",
       "       'TEL', 'TGNA', 'TGT', 'TIF', 'TJX', 'TMK', 'TMO', 'TROW', 'TRV',\n",
       "       'TSCO', 'TSN', 'TSO', 'TSS', 'TWX', 'TXN', 'TXT', 'UAA', 'UAL',\n",
       "       'UDR', 'UHS', 'ULTA', 'UNH', 'UNM', 'UNP', 'UPS', 'URBN', 'URI',\n",
       "       'USB', 'UTX', 'V', 'VAR', 'VFC', 'VIAB', 'VLO', 'VMC', 'VNO',\n",
       "       'VRSK', 'VRSN', 'VRTX', 'VTR', 'VZ', 'WAT', 'WBA', 'WDC', 'WEC',\n",
       "       'WFC', 'WFM', 'WHR', 'WM', 'WMB', 'WMT', 'WU', 'WY', 'WYN', 'WYNN',\n",
       "       'XEC', 'XEL', 'XL', 'XLNX', 'XOM', 'XRAY', 'XRX', 'YHOO', 'YUM',\n",
       "       'ZBH', 'ZION', 'AIV', 'CHTR', 'LYB', 'GM', 'ABBV', 'DLPH', 'FB',\n",
       "       'FBHS', 'HCA', 'KMI', 'KORS', 'MPC', 'NLSN', 'PSX', 'TDG', 'TRIP',\n",
       "       'XYL', 'ZTS', 'COTY', 'MNK', 'NWS', 'NWSA', 'EVHC', 'ALLE', 'CFG',\n",
       "       'NAVI', 'QRVO', 'SYF', 'WRK', 'KHC', 'PYPL', 'HPE', 'CSRA', 'FTV'],\n",
       "      dtype=object)"
      ]
     },
     "execution_count": 6,
     "metadata": {},
     "output_type": "execute_result"
    }
   ],
   "source": [
    "data.symbol.unique()"
   ]
  },
  {
   "cell_type": "code",
   "execution_count": 8,
   "metadata": {},
   "outputs": [],
   "source": [
    "df_yahoo = data[data['symbol'] == 'YHOO']"
   ]
  },
  {
   "cell_type": "code",
   "execution_count": 9,
   "metadata": {},
   "outputs": [
    {
     "data": {
      "text/html": [
       "<div>\n",
       "<style scoped>\n",
       "    .dataframe tbody tr th:only-of-type {\n",
       "        vertical-align: middle;\n",
       "    }\n",
       "\n",
       "    .dataframe tbody tr th {\n",
       "        vertical-align: top;\n",
       "    }\n",
       "\n",
       "    .dataframe thead th {\n",
       "        text-align: right;\n",
       "    }\n",
       "</style>\n",
       "<table border=\"1\" class=\"dataframe\">\n",
       "  <thead>\n",
       "    <tr style=\"text-align: right;\">\n",
       "      <th></th>\n",
       "      <th>date</th>\n",
       "      <th>symbol</th>\n",
       "      <th>open</th>\n",
       "      <th>close</th>\n",
       "      <th>low</th>\n",
       "      <th>high</th>\n",
       "      <th>volume</th>\n",
       "    </tr>\n",
       "  </thead>\n",
       "  <tbody>\n",
       "    <tr>\n",
       "      <th>713</th>\n",
       "      <td>2010-01-04</td>\n",
       "      <td>YHOO</td>\n",
       "      <td>16.940001</td>\n",
       "      <td>17.100000</td>\n",
       "      <td>16.879999</td>\n",
       "      <td>17.200001</td>\n",
       "      <td>16587400.0</td>\n",
       "    </tr>\n",
       "    <tr>\n",
       "      <th>1181</th>\n",
       "      <td>2010-01-05</td>\n",
       "      <td>YHOO</td>\n",
       "      <td>17.219999</td>\n",
       "      <td>17.230000</td>\n",
       "      <td>17.000000</td>\n",
       "      <td>17.230000</td>\n",
       "      <td>11718100.0</td>\n",
       "    </tr>\n",
       "    <tr>\n",
       "      <th>1649</th>\n",
       "      <td>2010-01-06</td>\n",
       "      <td>YHOO</td>\n",
       "      <td>17.170000</td>\n",
       "      <td>17.170000</td>\n",
       "      <td>17.070000</td>\n",
       "      <td>17.299999</td>\n",
       "      <td>16422000.0</td>\n",
       "    </tr>\n",
       "    <tr>\n",
       "      <th>2117</th>\n",
       "      <td>2010-01-07</td>\n",
       "      <td>YHOO</td>\n",
       "      <td>16.809999</td>\n",
       "      <td>16.700001</td>\n",
       "      <td>16.570000</td>\n",
       "      <td>16.900000</td>\n",
       "      <td>31816300.0</td>\n",
       "    </tr>\n",
       "    <tr>\n",
       "      <th>2585</th>\n",
       "      <td>2010-01-08</td>\n",
       "      <td>YHOO</td>\n",
       "      <td>16.680000</td>\n",
       "      <td>16.700001</td>\n",
       "      <td>16.620001</td>\n",
       "      <td>16.760000</td>\n",
       "      <td>15470000.0</td>\n",
       "    </tr>\n",
       "  </tbody>\n",
       "</table>\n",
       "</div>"
      ],
      "text/plain": [
       "            date symbol       open      close        low       high  \\\n",
       "713   2010-01-04   YHOO  16.940001  17.100000  16.879999  17.200001   \n",
       "1181  2010-01-05   YHOO  17.219999  17.230000  17.000000  17.230000   \n",
       "1649  2010-01-06   YHOO  17.170000  17.170000  17.070000  17.299999   \n",
       "2117  2010-01-07   YHOO  16.809999  16.700001  16.570000  16.900000   \n",
       "2585  2010-01-08   YHOO  16.680000  16.700001  16.620001  16.760000   \n",
       "\n",
       "          volume  \n",
       "713   16587400.0  \n",
       "1181  11718100.0  \n",
       "1649  16422000.0  \n",
       "2117  31816300.0  \n",
       "2585  15470000.0  "
      ]
     },
     "execution_count": 9,
     "metadata": {},
     "output_type": "execute_result"
    }
   ],
   "source": [
    "df_yahoo.head()"
   ]
  },
  {
   "cell_type": "code",
   "execution_count": 10,
   "metadata": {},
   "outputs": [
    {
     "data": {
      "text/plain": [
       "(1762, 7)"
      ]
     },
     "execution_count": 10,
     "metadata": {},
     "output_type": "execute_result"
    }
   ],
   "source": [
    "df_yahoo.shape"
   ]
  },
  {
   "cell_type": "code",
   "execution_count": 11,
   "metadata": {},
   "outputs": [
    {
     "data": {
      "text/html": [
       "<div>\n",
       "<style scoped>\n",
       "    .dataframe tbody tr th:only-of-type {\n",
       "        vertical-align: middle;\n",
       "    }\n",
       "\n",
       "    .dataframe tbody tr th {\n",
       "        vertical-align: top;\n",
       "    }\n",
       "\n",
       "    .dataframe thead th {\n",
       "        text-align: right;\n",
       "    }\n",
       "</style>\n",
       "<table border=\"1\" class=\"dataframe\">\n",
       "  <thead>\n",
       "    <tr style=\"text-align: right;\">\n",
       "      <th></th>\n",
       "      <th>open</th>\n",
       "      <th>close</th>\n",
       "      <th>low</th>\n",
       "      <th>high</th>\n",
       "      <th>volume</th>\n",
       "    </tr>\n",
       "  </thead>\n",
       "  <tbody>\n",
       "    <tr>\n",
       "      <th>count</th>\n",
       "      <td>1762.000000</td>\n",
       "      <td>1762.000000</td>\n",
       "      <td>1762.000000</td>\n",
       "      <td>1762.000000</td>\n",
       "      <td>1.762000e+03</td>\n",
       "    </tr>\n",
       "    <tr>\n",
       "      <th>mean</th>\n",
       "      <td>27.297917</td>\n",
       "      <td>27.291992</td>\n",
       "      <td>26.975602</td>\n",
       "      <td>27.609977</td>\n",
       "      <td>1.996907e+07</td>\n",
       "    </tr>\n",
       "    <tr>\n",
       "      <th>std</th>\n",
       "      <td>11.412612</td>\n",
       "      <td>11.406846</td>\n",
       "      <td>11.289736</td>\n",
       "      <td>11.526101</td>\n",
       "      <td>1.376851e+07</td>\n",
       "    </tr>\n",
       "    <tr>\n",
       "      <th>min</th>\n",
       "      <td>11.300000</td>\n",
       "      <td>11.090000</td>\n",
       "      <td>11.090000</td>\n",
       "      <td>11.800000</td>\n",
       "      <td>2.586900e+06</td>\n",
       "    </tr>\n",
       "    <tr>\n",
       "      <th>25%</th>\n",
       "      <td>15.950000</td>\n",
       "      <td>15.920000</td>\n",
       "      <td>15.770000</td>\n",
       "      <td>16.110001</td>\n",
       "      <td>1.235152e+07</td>\n",
       "    </tr>\n",
       "    <tr>\n",
       "      <th>50%</th>\n",
       "      <td>26.770001</td>\n",
       "      <td>26.750000</td>\n",
       "      <td>26.495000</td>\n",
       "      <td>27.105000</td>\n",
       "      <td>1.639070e+07</td>\n",
       "    </tr>\n",
       "    <tr>\n",
       "      <th>75%</th>\n",
       "      <td>37.335000</td>\n",
       "      <td>37.377501</td>\n",
       "      <td>36.897501</td>\n",
       "      <td>37.689999</td>\n",
       "      <td>2.325988e+07</td>\n",
       "    </tr>\n",
       "    <tr>\n",
       "      <th>max</th>\n",
       "      <td>52.279999</td>\n",
       "      <td>52.369999</td>\n",
       "      <td>51.639999</td>\n",
       "      <td>52.619999</td>\n",
       "      <td>2.338721e+08</td>\n",
       "    </tr>\n",
       "  </tbody>\n",
       "</table>\n",
       "</div>"
      ],
      "text/plain": [
       "              open        close          low         high        volume\n",
       "count  1762.000000  1762.000000  1762.000000  1762.000000  1.762000e+03\n",
       "mean     27.297917    27.291992    26.975602    27.609977  1.996907e+07\n",
       "std      11.412612    11.406846    11.289736    11.526101  1.376851e+07\n",
       "min      11.300000    11.090000    11.090000    11.800000  2.586900e+06\n",
       "25%      15.950000    15.920000    15.770000    16.110001  1.235152e+07\n",
       "50%      26.770001    26.750000    26.495000    27.105000  1.639070e+07\n",
       "75%      37.335000    37.377501    36.897501    37.689999  2.325988e+07\n",
       "max      52.279999    52.369999    51.639999    52.619999  2.338721e+08"
      ]
     },
     "execution_count": 11,
     "metadata": {},
     "output_type": "execute_result"
    }
   ],
   "source": [
    "df_yahoo.describe()"
   ]
  },
  {
   "cell_type": "code",
   "execution_count": 12,
   "metadata": {},
   "outputs": [
    {
     "data": {
      "text/plain": [
       "date      0\n",
       "symbol    0\n",
       "open      0\n",
       "close     0\n",
       "low       0\n",
       "high      0\n",
       "volume    0\n",
       "dtype: int64"
      ]
     },
     "execution_count": 12,
     "metadata": {},
     "output_type": "execute_result"
    }
   ],
   "source": [
    "df_yahoo.isnull().sum()"
   ]
  },
  {
   "cell_type": "code",
   "execution_count": 14,
   "metadata": {},
   "outputs": [
    {
     "name": "stderr",
     "output_type": "stream",
     "text": [
      "<ipython-input-14-2ed92b52d5dc>:1: SettingWithCopyWarning: \n",
      "A value is trying to be set on a copy of a slice from a DataFrame.\n",
      "Try using .loc[row_indexer,col_indexer] = value instead\n",
      "\n",
      "See the caveats in the documentation: https://pandas.pydata.org/pandas-docs/stable/user_guide/indexing.html#returning-a-view-versus-a-copy\n",
      "  df_yahoo['date'] = pd.to_datetime(df_yahoo['date'])\n"
     ]
    }
   ],
   "source": [
    "df_yahoo['date'] = pd.to_datetime(df_yahoo['date'])"
   ]
  },
  {
   "cell_type": "code",
   "execution_count": 17,
   "metadata": {},
   "outputs": [
    {
     "name": "stdout",
     "output_type": "stream",
     "text": [
      "datetime64[ns]\n"
     ]
    }
   ],
   "source": [
    "print(df_yahoo.date.dtype)"
   ]
  },
  {
   "cell_type": "code",
   "execution_count": 18,
   "metadata": {},
   "outputs": [
    {
     "data": {
      "text/html": [
       "<div>\n",
       "<style scoped>\n",
       "    .dataframe tbody tr th:only-of-type {\n",
       "        vertical-align: middle;\n",
       "    }\n",
       "\n",
       "    .dataframe tbody tr th {\n",
       "        vertical-align: top;\n",
       "    }\n",
       "\n",
       "    .dataframe thead th {\n",
       "        text-align: right;\n",
       "    }\n",
       "</style>\n",
       "<table border=\"1\" class=\"dataframe\">\n",
       "  <thead>\n",
       "    <tr style=\"text-align: right;\">\n",
       "      <th></th>\n",
       "      <th>symbol</th>\n",
       "      <th>open</th>\n",
       "      <th>close</th>\n",
       "      <th>low</th>\n",
       "      <th>high</th>\n",
       "      <th>volume</th>\n",
       "    </tr>\n",
       "    <tr>\n",
       "      <th>date</th>\n",
       "      <th></th>\n",
       "      <th></th>\n",
       "      <th></th>\n",
       "      <th></th>\n",
       "      <th></th>\n",
       "      <th></th>\n",
       "    </tr>\n",
       "  </thead>\n",
       "  <tbody>\n",
       "    <tr>\n",
       "      <th>2010-01-04</th>\n",
       "      <td>YHOO</td>\n",
       "      <td>16.940001</td>\n",
       "      <td>17.100000</td>\n",
       "      <td>16.879999</td>\n",
       "      <td>17.200001</td>\n",
       "      <td>16587400.0</td>\n",
       "    </tr>\n",
       "    <tr>\n",
       "      <th>2010-01-05</th>\n",
       "      <td>YHOO</td>\n",
       "      <td>17.219999</td>\n",
       "      <td>17.230000</td>\n",
       "      <td>17.000000</td>\n",
       "      <td>17.230000</td>\n",
       "      <td>11718100.0</td>\n",
       "    </tr>\n",
       "    <tr>\n",
       "      <th>2010-01-06</th>\n",
       "      <td>YHOO</td>\n",
       "      <td>17.170000</td>\n",
       "      <td>17.170000</td>\n",
       "      <td>17.070000</td>\n",
       "      <td>17.299999</td>\n",
       "      <td>16422000.0</td>\n",
       "    </tr>\n",
       "    <tr>\n",
       "      <th>2010-01-07</th>\n",
       "      <td>YHOO</td>\n",
       "      <td>16.809999</td>\n",
       "      <td>16.700001</td>\n",
       "      <td>16.570000</td>\n",
       "      <td>16.900000</td>\n",
       "      <td>31816300.0</td>\n",
       "    </tr>\n",
       "    <tr>\n",
       "      <th>2010-01-08</th>\n",
       "      <td>YHOO</td>\n",
       "      <td>16.680000</td>\n",
       "      <td>16.700001</td>\n",
       "      <td>16.620001</td>\n",
       "      <td>16.760000</td>\n",
       "      <td>15470000.0</td>\n",
       "    </tr>\n",
       "  </tbody>\n",
       "</table>\n",
       "</div>"
      ],
      "text/plain": [
       "           symbol       open      close        low       high      volume\n",
       "date                                                                     \n",
       "2010-01-04   YHOO  16.940001  17.100000  16.879999  17.200001  16587400.0\n",
       "2010-01-05   YHOO  17.219999  17.230000  17.000000  17.230000  11718100.0\n",
       "2010-01-06   YHOO  17.170000  17.170000  17.070000  17.299999  16422000.0\n",
       "2010-01-07   YHOO  16.809999  16.700001  16.570000  16.900000  31816300.0\n",
       "2010-01-08   YHOO  16.680000  16.700001  16.620001  16.760000  15470000.0"
      ]
     },
     "execution_count": 18,
     "metadata": {},
     "output_type": "execute_result"
    }
   ],
   "source": [
    "df_yahoo = df_yahoo.set_index(\"date\")\n",
    "df_yahoo.head()"
   ]
  },
  {
   "cell_type": "code",
   "execution_count": 19,
   "metadata": {},
   "outputs": [],
   "source": [
    "yahoo_data = df_yahoo.asfreq('b')"
   ]
  },
  {
   "cell_type": "code",
   "execution_count": 20,
   "metadata": {},
   "outputs": [
    {
     "data": {
      "text/html": [
       "<div>\n",
       "<style scoped>\n",
       "    .dataframe tbody tr th:only-of-type {\n",
       "        vertical-align: middle;\n",
       "    }\n",
       "\n",
       "    .dataframe tbody tr th {\n",
       "        vertical-align: top;\n",
       "    }\n",
       "\n",
       "    .dataframe thead th {\n",
       "        text-align: right;\n",
       "    }\n",
       "</style>\n",
       "<table border=\"1\" class=\"dataframe\">\n",
       "  <thead>\n",
       "    <tr style=\"text-align: right;\">\n",
       "      <th></th>\n",
       "      <th>symbol</th>\n",
       "      <th>open</th>\n",
       "      <th>close</th>\n",
       "      <th>low</th>\n",
       "      <th>high</th>\n",
       "      <th>volume</th>\n",
       "    </tr>\n",
       "    <tr>\n",
       "      <th>date</th>\n",
       "      <th></th>\n",
       "      <th></th>\n",
       "      <th></th>\n",
       "      <th></th>\n",
       "      <th></th>\n",
       "      <th></th>\n",
       "    </tr>\n",
       "  </thead>\n",
       "  <tbody>\n",
       "    <tr>\n",
       "      <th>2016-12-26</th>\n",
       "      <td>NaN</td>\n",
       "      <td>NaN</td>\n",
       "      <td>NaN</td>\n",
       "      <td>NaN</td>\n",
       "      <td>NaN</td>\n",
       "      <td>NaN</td>\n",
       "    </tr>\n",
       "    <tr>\n",
       "      <th>2016-12-27</th>\n",
       "      <td>YHOO</td>\n",
       "      <td>38.590000</td>\n",
       "      <td>38.919998</td>\n",
       "      <td>38.500000</td>\n",
       "      <td>39.070000</td>\n",
       "      <td>4240300.0</td>\n",
       "    </tr>\n",
       "    <tr>\n",
       "      <th>2016-12-28</th>\n",
       "      <td>YHOO</td>\n",
       "      <td>39.119999</td>\n",
       "      <td>38.730000</td>\n",
       "      <td>38.709999</td>\n",
       "      <td>39.220001</td>\n",
       "      <td>4393500.0</td>\n",
       "    </tr>\n",
       "    <tr>\n",
       "      <th>2016-12-29</th>\n",
       "      <td>YHOO</td>\n",
       "      <td>38.759998</td>\n",
       "      <td>38.639999</td>\n",
       "      <td>38.480000</td>\n",
       "      <td>38.930000</td>\n",
       "      <td>4170200.0</td>\n",
       "    </tr>\n",
       "    <tr>\n",
       "      <th>2016-12-30</th>\n",
       "      <td>YHOO</td>\n",
       "      <td>38.720001</td>\n",
       "      <td>38.669998</td>\n",
       "      <td>38.430000</td>\n",
       "      <td>39.000000</td>\n",
       "      <td>6431600.0</td>\n",
       "    </tr>\n",
       "  </tbody>\n",
       "</table>\n",
       "</div>"
      ],
      "text/plain": [
       "           symbol       open      close        low       high     volume\n",
       "date                                                                    \n",
       "2016-12-26    NaN        NaN        NaN        NaN        NaN        NaN\n",
       "2016-12-27   YHOO  38.590000  38.919998  38.500000  39.070000  4240300.0\n",
       "2016-12-28   YHOO  39.119999  38.730000  38.709999  39.220001  4393500.0\n",
       "2016-12-29   YHOO  38.759998  38.639999  38.480000  38.930000  4170200.0\n",
       "2016-12-30   YHOO  38.720001  38.669998  38.430000  39.000000  6431600.0"
      ]
     },
     "execution_count": 20,
     "metadata": {},
     "output_type": "execute_result"
    }
   ],
   "source": [
    "yahoo_data.tail()"
   ]
  },
  {
   "cell_type": "code",
   "execution_count": 21,
   "metadata": {},
   "outputs": [
    {
     "data": {
      "text/plain": [
       "symbol    63\n",
       "open      63\n",
       "close     63\n",
       "low       63\n",
       "high      63\n",
       "volume    63\n",
       "dtype: int64"
      ]
     },
     "execution_count": 21,
     "metadata": {},
     "output_type": "execute_result"
    }
   ],
   "source": [
    "yahoo_data.isnull().sum()"
   ]
  },
  {
   "cell_type": "code",
   "execution_count": 22,
   "metadata": {},
   "outputs": [],
   "source": [
    "null_data = yahoo_data[yahoo_data.isnull().any(axis=1)]\n",
    "null_dates = null_data.index.tolist()"
   ]
  },
  {
   "cell_type": "code",
   "execution_count": 23,
   "metadata": {},
   "outputs": [],
   "source": [
    "import calendar\n",
    "import datetime\n",
    "\n",
    "holidays = []\n",
    "\n",
    "for date in null_dates:\n",
    "    week, day, month, year = date.weekday(), date.day, date.month, date.year\n",
    "    week_day = calendar.day_name[week]\n",
    "\n",
    "    if month==1:\n",
    "        if day==1:\n",
    "            holidays.append(date)\n",
    "        elif day==2 and week_day=='Monday':\n",
    "            holidays.append(date)\n",
    "        elif day>=15 and day<=21 and week_day=='Monday':\n",
    "            holidays.append(date)\n",
    "\n",
    "    elif month==2:\n",
    "        if day>=15 and day<=21 and week_day=='Monday':\n",
    "            holidays.append(date)\n",
    "\n",
    "    elif month==5:\n",
    "        if day>=25 and day<=31 and week_day=='Monday':\n",
    "            holidays.append(date)\n",
    "\n",
    "    elif month==7:\n",
    "        if day==4:\n",
    "            holidays.append(date)\n",
    "        elif day==5 and week_day=='Monday':\n",
    "            holidays.append(date)\n",
    "        elif day==3 and week_day=='Friday':\n",
    "            holidays.append(date)\n",
    "\n",
    "    elif month == 9:\n",
    "        if day>=1 and day<=7 and week_day=='Monday':\n",
    "            holidays.append(date)\n",
    "\n",
    "    elif month==11:\n",
    "        if week_day=='Thursday' and day>=22 and day<=28:\n",
    "            holidays.append(date)\n",
    "\n",
    "    elif month==12:\n",
    "        if day==25:\n",
    "            holidays.append(date)\n",
    "        elif day==24 and week_day=='Friday':\n",
    "            holidays.append(date)\n",
    "        elif day==26 and week_day=='Monday':\n",
    "            holidays.append(date)\n",
    "\n",
    "good_fridays = [ datetime.date(2010,4,2), datetime.date(2011,4,22), datetime.date(2012,4,6), datetime.date(2013,3,29), datetime.date(2014,4,18), datetime.date(2015,4,3), datetime.date(2016,3,25) ]\n",
    "holidays = holidays + [pd.to_datetime(date) for date in good_fridays]"
   ]
  },
  {
   "cell_type": "code",
   "execution_count": 25,
   "metadata": {},
   "outputs": [],
   "source": [
    "non_holidays = [x for x in null_dates if x not in holidays]"
   ]
  },
  {
   "cell_type": "code",
   "execution_count": 34,
   "metadata": {},
   "outputs": [
    {
     "data": {
      "text/plain": [
       "(1764, 6)"
      ]
     },
     "execution_count": 34,
     "metadata": {},
     "output_type": "execute_result"
    }
   ],
   "source": [
    "modified = yahoo_data.drop(holidays)\n",
    "modified.shape"
   ]
  },
  {
   "cell_type": "code",
   "execution_count": 35,
   "metadata": {},
   "outputs": [
    {
     "data": {
      "text/plain": [
       "symbol    2\n",
       "open      2\n",
       "close     2\n",
       "low       2\n",
       "high      2\n",
       "volume    2\n",
       "dtype: int64"
      ]
     },
     "execution_count": 35,
     "metadata": {},
     "output_type": "execute_result"
    }
   ],
   "source": [
    "modified.isnull().sum()"
   ]
  },
  {
   "cell_type": "code",
   "execution_count": 36,
   "metadata": {},
   "outputs": [],
   "source": [
    "modified = modified.fillna(method='bfill')"
   ]
  },
  {
   "cell_type": "code",
   "execution_count": 40,
   "metadata": {},
   "outputs": [],
   "source": [
    "closing = modified.close.values.astype('float32')\n",
    "closing = closing.reshape(-1, 1)"
   ]
  },
  {
   "cell_type": "code",
   "execution_count": 43,
   "metadata": {},
   "outputs": [
    {
     "data": {
      "image/png": "[encoded data removed]",
      "text/plain": [
       "<Figure size 432x288 with 1 Axes>"
      ]
     },
     "metadata": {
      "needs_background": "light"
     },
     "output_type": "display_data"
    }
   ],
   "source": [
    "plt.xlabel('Time')\n",
    "plt.ylabel('closing stock prices')\n",
    "plt.title('prices Vs Time')\n",
    "plt.grid(True)\n",
    "plt.plot(closing, 'b')\n",
    "plt.show()"
   ]
  },
  {
   "cell_type": "code",
   "execution_count": 46,
   "metadata": {},
   "outputs": [
    {
     "name": "stdout",
     "output_type": "stream",
     "text": [
      "(1411, 1)\n",
      "(176, 1)\n",
      "(177, 1)\n"
     ]
    }
   ],
   "source": [
    "n_train = int(len(closing) * 0.80)\n",
    "n_remaining = len(closing) - n_train\n",
    "\n",
    "n_val = int(n_remaining*0.50)\n",
    "n_test = n_remaining - n_val \n",
    "\n",
    "train_data = closing[0:n_train]\n",
    "print(train_data.shape)\n",
    "\n",
    "val_data = closing[n_train:n_train + n_val]\n",
    "print(val_data.shape)\n",
    "\n",
    "test_data = closing[n_train + n_val:]\n",
    "print(test_data.shape)"
   ]
  },
  {
   "cell_type": "code",
   "execution_count": 47,
   "metadata": {},
   "outputs": [],
   "source": [
    "from sklearn.preprocessing import MinMaxScaler\n",
    "\n",
    "scaler = MinMaxScaler(feature_range=(0, 1))\n",
    "\n",
    "train = scaler.fit_transform(train_data)\n",
    "val = scaler.transform(val_data)\n",
    "test = scaler.transform(test_data)"
   ]
  },
  {
   "cell_type": "code",
   "execution_count": 48,
   "metadata": {},
   "outputs": [
    {
     "name": "stdout",
     "output_type": "stream",
     "text": [
      "(1408, 2) (1408,) (173, 2) (173,) (174, 2) (174,)\n",
      "(1408, 1, 2) (1408,) (173, 1, 2) (173,) (174, 1, 2) (174,)\n"
     ]
    }
   ],
   "source": [
    "def create_dataset(data , n_features):\n",
    "    dataX, dataY = [], []\n",
    "    for i in range(len(data)-n_features-1):\n",
    "        a = data[i:(i+n_features), 0]\n",
    "        dataX.append(a)\n",
    "        dataY.append(data[i + n_features, 0])\n",
    "    return np.array(dataX), np.array(dataY)\n",
    "\n",
    "n_features = 2\n",
    "\n",
    "trainX, trainY = create_dataset(train, n_features)\n",
    "valX, valY = create_dataset(val, n_features)\n",
    "testX, testY = create_dataset(test, n_features)\n",
    "\n",
    "print(trainX.shape , trainY.shape , valX.shape , valY.shape, testX.shape , testY.shape)\n",
    "\n",
    "#Timestep = 1\n",
    "trainX = trainX.reshape(trainX.shape[0] , 1 ,trainX.shape[1])\n",
    "valX = valX.reshape(valX.shape[0] , 1 ,valX.shape[1])\n",
    "testX = testX.reshape(testX.shape[0] , 1 ,testX.shape[1])\n",
    "\n",
    "print(trainX.shape , trainY.shape , valX.shape , valY.shape, testX.shape , testY.shape)"
   ]
  },
  {
   "cell_type": "code",
   "execution_count": 49,
   "metadata": {},
   "outputs": [],
   "source": [
    "import tensorflow as tf\n",
    "tf.random.set_seed(42)\n",
    "\n",
    "from tensorflow import keras\n",
    "from tensorflow.keras import layers\n",
    "from tensorflow.keras.optimizers import Adam"
   ]
  },
  {
   "cell_type": "code",
   "execution_count": 51,
   "metadata": {},
   "outputs": [],
   "source": [
    "model = keras.models.Sequential()\n",
    "model.add(layers.GRU(units=100, return_sequences=True, input_shape=(1,n_features), activation='tanh'))\n",
    "model.add(layers.Dropout(0.2))\n",
    "\n",
    "model.add(layers.GRU(units=150, return_sequences=True, input_shape=(1,n_features), activation='tanh'))\n",
    "model.add(layers.Dropout(0.2))\n",
    "\n",
    "model.add(layers.GRU(units=100, activation='tanh'))\n",
    "model.add(layers.Dropout(0.2))\n",
    "\n",
    "model.add(layers.Dense(units=1, kernel_initializer='he_uniform', activation='linear'))\n",
    "\n",
    "model.compile(loss='mean_squared_error', optimizer=Adam(lr = 0.0001) , metrics = ['mean_squared_error'])"
   ]
  },
  {
   "cell_type": "code",
   "execution_count": 52,
   "metadata": {},
   "outputs": [
    {
     "name": "stdout",
     "output_type": "stream",
     "text": [
      "Model: \"sequential\"\n",
      "_________________________________________________________________\n",
      "Layer (type)                 Output Shape              Param #   \n",
      "=================================================================\n",
      "gru (GRU)                    (None, 1, 100)            31200     \n",
      "_________________________________________________________________\n",
      "dropout (Dropout)            (None, 1, 100)            0         \n",
      "_________________________________________________________________\n",
      "gru_1 (GRU)                  (None, 1, 150)            113400    \n",
      "_________________________________________________________________\n",
      "dropout_1 (Dropout)          (None, 1, 150)            0         \n",
      "_________________________________________________________________\n",
      "gru_2 (GRU)                  (None, 100)               75600     \n",
      "_________________________________________________________________\n",
      "dropout_2 (Dropout)          (None, 100)               0         \n",
      "_________________________________________________________________\n",
      "dense (Dense)                (None, 1)                 101       \n",
      "=================================================================\n",
      "Total params: 220,301\n",
      "Trainable params: 220,301\n",
      "Non-trainable params: 0\n",
      "_________________________________________________________________\n"
     ]
    }
   ],
   "source": [
    "model.summary()"
   ]
  },
  {
   "cell_type": "code",
   "execution_count": 53,
   "metadata": {},
   "outputs": [
    {
     "name": "stdout",
     "output_type": "stream",
     "text": [
      "Epoch 1/100\n",
      "11/11 [==============================] - 3s 77ms/step - loss: 0.1788 - mean_squared_error: 0.1788 - val_loss: 0.2324 - val_mean_squared_error: 0.2324\n",
      "Epoch 2/100\n",
      "11/11 [==============================] - 0s 8ms/step - loss: 0.1467 - mean_squared_error: 0.1467 - val_loss: 0.1974 - val_mean_squared_error: 0.1974\n",
      "Epoch 3/100\n",
      "11/11 [==============================] - 0s 7ms/step - loss: 0.1288 - mean_squared_error: 0.1288 - val_loss: 0.1610 - val_mean_squared_error: 0.1610\n",
      "Epoch 4/100\n",
      "11/11 [==============================] - 0s 6ms/step - loss: 0.1082 - mean_squared_error: 0.1082 - val_loss: 0.1233 - val_mean_squared_error: 0.1233\n",
      "Epoch 5/100\n",
      "11/11 [==============================] - 0s 6ms/step - loss: 0.0834 - mean_squared_error: 0.0834 - val_loss: 0.0857 - val_mean_squared_error: 0.0857\n",
      "Epoch 6/100\n",
      "11/11 [==============================] - 0s 6ms/step - loss: 0.0609 - mean_squared_error: 0.0609 - val_loss: 0.0514 - val_mean_squared_error: 0.0514\n",
      "Epoch 7/100\n",
      "11/11 [==============================] - 0s 7ms/step - loss: 0.0446 - mean_squared_error: 0.0446 - val_loss: 0.0247 - val_mean_squared_error: 0.0247\n",
      "Epoch 8/100\n",
      "11/11 [==============================] - 0s 6ms/step - loss: 0.0300 - mean_squared_error: 0.0300 - val_loss: 0.0092 - val_mean_squared_error: 0.0092\n",
      "Epoch 9/100\n",
      "11/11 [==============================] - 0s 6ms/step - loss: 0.0232 - mean_squared_error: 0.0232 - val_loss: 0.0033 - val_mean_squared_error: 0.0033\n",
      "Epoch 10/100\n",
      "11/11 [==============================] - 0s 6ms/step - loss: 0.0195 - mean_squared_error: 0.0195 - val_loss: 0.0018 - val_mean_squared_error: 0.0018\n",
      "Epoch 11/100\n",
      "11/11 [==============================] - 0s 7ms/step - loss: 0.0186 - mean_squared_error: 0.0186 - val_loss: 0.0016 - val_mean_squared_error: 0.0016\n",
      "Epoch 12/100\n",
      "11/11 [==============================] - 0s 7ms/step - loss: 0.0162 - mean_squared_error: 0.0162 - val_loss: 0.0017 - val_mean_squared_error: 0.0017\n",
      "Epoch 13/100\n",
      "11/11 [==============================] - 0s 6ms/step - loss: 0.0132 - mean_squared_error: 0.0132 - val_loss: 0.0018 - val_mean_squared_error: 0.0018\n",
      "Epoch 14/100\n",
      "11/11 [==============================] - 0s 14ms/step - loss: 0.0112 - mean_squared_error: 0.0112 - val_loss: 0.0015 - val_mean_squared_error: 0.0015\n",
      "Epoch 15/100\n",
      "11/11 [==============================] - 0s 7ms/step - loss: 0.0090 - mean_squared_error: 0.0090 - val_loss: 0.0012 - val_mean_squared_error: 0.0012\n",
      "Epoch 16/100\n",
      "11/11 [==============================] - 0s 14ms/step - loss: 0.0079 - mean_squared_error: 0.0079 - val_loss: 9.7566e-04 - val_mean_squared_error: 9.7566e-04\n",
      "Epoch 17/100\n",
      "11/11 [==============================] - 0s 7ms/step - loss: 0.0069 - mean_squared_error: 0.0069 - val_loss: 7.9550e-04 - val_mean_squared_error: 7.9550e-04\n",
      "Epoch 18/100\n",
      "11/11 [==============================] - 0s 9ms/step - loss: 0.0050 - mean_squared_error: 0.0050 - val_loss: 7.6486e-04 - val_mean_squared_error: 7.6486e-04\n",
      "Epoch 19/100\n",
      "11/11 [==============================] - 0s 6ms/step - loss: 0.0044 - mean_squared_error: 0.0044 - val_loss: 6.5888e-04 - val_mean_squared_error: 6.5888e-04\n",
      "Epoch 20/100\n",
      "11/11 [==============================] - 0s 6ms/step - loss: 0.0036 - mean_squared_error: 0.0036 - val_loss: 6.0191e-04 - val_mean_squared_error: 6.0191e-04\n",
      "Epoch 21/100\n",
      "11/11 [==============================] - 0s 7ms/step - loss: 0.0028 - mean_squared_error: 0.0028 - val_loss: 6.2032e-04 - val_mean_squared_error: 6.2032e-04\n",
      "Epoch 22/100\n",
      "11/11 [==============================] - 0s 7ms/step - loss: 0.0024 - mean_squared_error: 0.0024 - val_loss: 6.2585e-04 - val_mean_squared_error: 6.2585e-04\n",
      "Epoch 23/100\n",
      "11/11 [==============================] - 0s 10ms/step - loss: 0.0024 - mean_squared_error: 0.0024 - val_loss: 5.9979e-04 - val_mean_squared_error: 5.9979e-04\n",
      "Epoch 24/100\n",
      "11/11 [==============================] - 0s 6ms/step - loss: 0.0025 - mean_squared_error: 0.0025 - val_loss: 4.9403e-04 - val_mean_squared_error: 4.9403e-04\n",
      "Epoch 25/100\n",
      "11/11 [==============================] - 0s 6ms/step - loss: 0.0022 - mean_squared_error: 0.0022 - val_loss: 5.3082e-04 - val_mean_squared_error: 5.3082e-04\n",
      "Epoch 26/100\n",
      "11/11 [==============================] - 0s 6ms/step - loss: 0.0022 - mean_squared_error: 0.0022 - val_loss: 5.3916e-04 - val_mean_squared_error: 5.3916e-04\n",
      "Epoch 27/100\n",
      "11/11 [==============================] - 0s 11ms/step - loss: 0.0020 - mean_squared_error: 0.0020 - val_loss: 4.8705e-04 - val_mean_squared_error: 4.8705e-04\n",
      "Epoch 28/100\n",
      "11/11 [==============================] - 0s 7ms/step - loss: 0.0021 - mean_squared_error: 0.0021 - val_loss: 4.9096e-04 - val_mean_squared_error: 4.9096e-04\n",
      "Epoch 29/100\n",
      "11/11 [==============================] - 0s 7ms/step - loss: 0.0024 - mean_squared_error: 0.0024 - val_loss: 6.3862e-04 - val_mean_squared_error: 6.3862e-04\n",
      "Epoch 30/100\n",
      "11/11 [==============================] - 0s 6ms/step - loss: 0.0021 - mean_squared_error: 0.0021 - val_loss: 4.6213e-04 - val_mean_squared_error: 4.6213e-04\n",
      "Epoch 31/100\n",
      "11/11 [==============================] - 0s 7ms/step - loss: 0.0021 - mean_squared_error: 0.0021 - val_loss: 4.4248e-04 - val_mean_squared_error: 4.4248e-04\n",
      "Epoch 32/100\n",
      "11/11 [==============================] - 0s 7ms/step - loss: 0.0019 - mean_squared_error: 0.0019 - val_loss: 5.5394e-04 - val_mean_squared_error: 5.5394e-04\n",
      "Epoch 33/100\n",
      "11/11 [==============================] - 0s 7ms/step - loss: 0.0017 - mean_squared_error: 0.0017 - val_loss: 5.7317e-04 - val_mean_squared_error: 5.7317e-04\n",
      "Epoch 34/100\n",
      "11/11 [==============================] - 0s 6ms/step - loss: 0.0017 - mean_squared_error: 0.0017 - val_loss: 5.0342e-04 - val_mean_squared_error: 5.0342e-04\n",
      "Epoch 35/100\n",
      "11/11 [==============================] - 0s 6ms/step - loss: 0.0019 - mean_squared_error: 0.0019 - val_loss: 4.5897e-04 - val_mean_squared_error: 4.5897e-04\n",
      "Epoch 36/100\n",
      "11/11 [==============================] - 0s 7ms/step - loss: 0.0021 - mean_squared_error: 0.0021 - val_loss: 4.8679e-04 - val_mean_squared_error: 4.8679e-04\n",
      "Epoch 37/100\n",
      "11/11 [==============================] - 0s 7ms/step - loss: 0.0020 - mean_squared_error: 0.0020 - val_loss: 4.5377e-04 - val_mean_squared_error: 4.5377e-04\n",
      "Epoch 38/100\n",
      "11/11 [==============================] - 0s 13ms/step - loss: 0.0022 - mean_squared_error: 0.0022 - val_loss: 4.8413e-04 - val_mean_squared_error: 4.8413e-04\n",
      "Epoch 39/100\n",
      "11/11 [==============================] - 0s 7ms/step - loss: 0.0019 - mean_squared_error: 0.0019 - val_loss: 5.2694e-04 - val_mean_squared_error: 5.2694e-04\n",
      "Epoch 40/100\n",
      "11/11 [==============================] - 0s 6ms/step - loss: 0.0019 - mean_squared_error: 0.0019 - val_loss: 4.9389e-04 - val_mean_squared_error: 4.9389e-04\n",
      "Epoch 41/100\n",
      "11/11 [==============================] - 0s 6ms/step - loss: 0.0021 - mean_squared_error: 0.0021 - val_loss: 5.2132e-04 - val_mean_squared_error: 5.2132e-04\n",
      "Epoch 42/100\n",
      "11/11 [==============================] - 0s 6ms/step - loss: 0.0017 - mean_squared_error: 0.0017 - val_loss: 5.3169e-04 - val_mean_squared_error: 5.3169e-04\n",
      "Epoch 43/100\n",
      "11/11 [==============================] - 0s 9ms/step - loss: 0.0019 - mean_squared_error: 0.0019 - val_loss: 5.1970e-04 - val_mean_squared_error: 5.1970e-04\n",
      "Epoch 44/100\n",
      "11/11 [==============================] - 0s 7ms/step - loss: 0.0018 - mean_squared_error: 0.0018 - val_loss: 5.0715e-04 - val_mean_squared_error: 5.0715e-04\n",
      "Epoch 45/100\n",
      "11/11 [==============================] - 0s 6ms/step - loss: 0.0020 - mean_squared_error: 0.0020 - val_loss: 5.4813e-04 - val_mean_squared_error: 5.4813e-04\n",
      "Epoch 46/100\n",
      "11/11 [==============================] - 0s 6ms/step - loss: 0.0020 - mean_squared_error: 0.0020 - val_loss: 5.6538e-04 - val_mean_squared_error: 5.6538e-04\n",
      "Epoch 47/100\n",
      "11/11 [==============================] - 0s 6ms/step - loss: 0.0020 - mean_squared_error: 0.0020 - val_loss: 5.3363e-04 - val_mean_squared_error: 5.3363e-04\n",
      "Epoch 48/100\n",
      "11/11 [==============================] - 0s 7ms/step - loss: 0.0015 - mean_squared_error: 0.0015 - val_loss: 4.3458e-04 - val_mean_squared_error: 4.3458e-04\n",
      "Epoch 49/100\n",
      "11/11 [==============================] - 0s 8ms/step - loss: 0.0020 - mean_squared_error: 0.0020 - val_loss: 4.8354e-04 - val_mean_squared_error: 4.8354e-04\n"
     ]
    },
    {
     "name": "stdout",
     "output_type": "stream",
     "text": [
      "Epoch 50/100\n",
      "11/11 [==============================] - 0s 9ms/step - loss: 0.0017 - mean_squared_error: 0.0017 - val_loss: 5.2226e-04 - val_mean_squared_error: 5.2226e-04\n",
      "Epoch 51/100\n",
      "11/11 [==============================] - 0s 8ms/step - loss: 0.0019 - mean_squared_error: 0.0019 - val_loss: 5.0034e-04 - val_mean_squared_error: 5.0034e-04\n",
      "Epoch 52/100\n",
      "11/11 [==============================] - 0s 6ms/step - loss: 0.0018 - mean_squared_error: 0.0018 - val_loss: 4.1869e-04 - val_mean_squared_error: 4.1869e-04\n",
      "Epoch 53/100\n",
      "11/11 [==============================] - 0s 7ms/step - loss: 0.0019 - mean_squared_error: 0.0019 - val_loss: 4.0120e-04 - val_mean_squared_error: 4.0120e-04\n",
      "Epoch 54/100\n",
      "11/11 [==============================] - 0s 6ms/step - loss: 0.0021 - mean_squared_error: 0.0021 - val_loss: 4.8447e-04 - val_mean_squared_error: 4.8447e-04\n",
      "Epoch 55/100\n",
      "11/11 [==============================] - 0s 7ms/step - loss: 0.0021 - mean_squared_error: 0.0021 - val_loss: 4.9021e-04 - val_mean_squared_error: 4.9021e-04\n",
      "Epoch 56/100\n",
      "11/11 [==============================] - 0s 7ms/step - loss: 0.0017 - mean_squared_error: 0.0017 - val_loss: 4.9765e-04 - val_mean_squared_error: 4.9765e-04\n",
      "Epoch 57/100\n",
      "11/11 [==============================] - 0s 9ms/step - loss: 0.0017 - mean_squared_error: 0.0017 - val_loss: 5.4669e-04 - val_mean_squared_error: 5.4669e-04\n",
      "Epoch 58/100\n",
      "11/11 [==============================] - 0s 7ms/step - loss: 0.0019 - mean_squared_error: 0.0019 - val_loss: 5.0837e-04 - val_mean_squared_error: 5.0837e-04\n",
      "Epoch 59/100\n",
      "11/11 [==============================] - 0s 7ms/step - loss: 0.0018 - mean_squared_error: 0.0018 - val_loss: 5.2094e-04 - val_mean_squared_error: 5.2094e-04\n",
      "Epoch 60/100\n",
      "11/11 [==============================] - 0s 7ms/step - loss: 0.0019 - mean_squared_error: 0.0019 - val_loss: 4.0651e-04 - val_mean_squared_error: 4.0651e-04\n",
      "Epoch 61/100\n",
      "11/11 [==============================] - 0s 8ms/step - loss: 0.0020 - mean_squared_error: 0.0020 - val_loss: 5.2090e-04 - val_mean_squared_error: 5.2090e-04\n",
      "Epoch 62/100\n",
      "11/11 [==============================] - 0s 6ms/step - loss: 0.0018 - mean_squared_error: 0.0018 - val_loss: 5.2794e-04 - val_mean_squared_error: 5.2794e-04\n",
      "Epoch 63/100\n",
      "11/11 [==============================] - 0s 7ms/step - loss: 0.0021 - mean_squared_error: 0.0021 - val_loss: 4.7733e-04 - val_mean_squared_error: 4.7733e-04\n",
      "Epoch 64/100\n",
      "11/11 [==============================] - 0s 6ms/step - loss: 0.0019 - mean_squared_error: 0.0019 - val_loss: 4.7362e-04 - val_mean_squared_error: 4.7362e-04\n",
      "Epoch 65/100\n",
      "11/11 [==============================] - 0s 6ms/step - loss: 0.0020 - mean_squared_error: 0.0020 - val_loss: 4.1866e-04 - val_mean_squared_error: 4.1866e-04\n",
      "Epoch 66/100\n",
      "11/11 [==============================] - 0s 10ms/step - loss: 0.0017 - mean_squared_error: 0.0017 - val_loss: 7.3106e-04 - val_mean_squared_error: 7.3106e-04\n",
      "Epoch 67/100\n",
      "11/11 [==============================] - 0s 6ms/step - loss: 0.0019 - mean_squared_error: 0.0019 - val_loss: 5.3499e-04 - val_mean_squared_error: 5.3499e-04\n",
      "Epoch 68/100\n",
      "11/11 [==============================] - 0s 7ms/step - loss: 0.0019 - mean_squared_error: 0.0019 - val_loss: 3.7938e-04 - val_mean_squared_error: 3.7938e-04\n",
      "Epoch 69/100\n",
      "11/11 [==============================] - 0s 7ms/step - loss: 0.0020 - mean_squared_error: 0.0020 - val_loss: 4.5230e-04 - val_mean_squared_error: 4.5230e-04\n",
      "Epoch 70/100\n",
      "11/11 [==============================] - 0s 6ms/step - loss: 0.0018 - mean_squared_error: 0.0018 - val_loss: 4.5663e-04 - val_mean_squared_error: 4.5663e-04\n",
      "Epoch 71/100\n",
      "11/11 [==============================] - 0s 6ms/step - loss: 0.0017 - mean_squared_error: 0.0017 - val_loss: 4.7487e-04 - val_mean_squared_error: 4.7487e-04\n",
      "Epoch 72/100\n",
      "11/11 [==============================] - 0s 6ms/step - loss: 0.0018 - mean_squared_error: 0.0018 - val_loss: 4.8847e-04 - val_mean_squared_error: 4.8847e-04\n",
      "Epoch 73/100\n",
      "11/11 [==============================] - 0s 8ms/step - loss: 0.0017 - mean_squared_error: 0.0017 - val_loss: 4.5125e-04 - val_mean_squared_error: 4.5125e-04\n",
      "Epoch 74/100\n",
      "11/11 [==============================] - 0s 8ms/step - loss: 0.0017 - mean_squared_error: 0.0017 - val_loss: 4.0966e-04 - val_mean_squared_error: 4.0966e-04\n",
      "Epoch 75/100\n",
      "11/11 [==============================] - 0s 7ms/step - loss: 0.0016 - mean_squared_error: 0.0016 - val_loss: 4.5886e-04 - val_mean_squared_error: 4.5886e-04\n",
      "Epoch 76/100\n",
      "11/11 [==============================] - 0s 7ms/step - loss: 0.0016 - mean_squared_error: 0.0016 - val_loss: 4.5695e-04 - val_mean_squared_error: 4.5695e-04\n",
      "Epoch 77/100\n",
      "11/11 [==============================] - 0s 7ms/step - loss: 0.0018 - mean_squared_error: 0.0018 - val_loss: 3.9962e-04 - val_mean_squared_error: 3.9962e-04\n",
      "Epoch 78/100\n",
      "11/11 [==============================] - 0s 7ms/step - loss: 0.0018 - mean_squared_error: 0.0018 - val_loss: 4.3980e-04 - val_mean_squared_error: 4.3980e-04\n",
      "Epoch 79/100\n",
      "11/11 [==============================] - 0s 7ms/step - loss: 0.0017 - mean_squared_error: 0.0017 - val_loss: 4.4749e-04 - val_mean_squared_error: 4.4749e-04\n",
      "Epoch 80/100\n",
      "11/11 [==============================] - 0s 7ms/step - loss: 0.0018 - mean_squared_error: 0.0018 - val_loss: 4.7972e-04 - val_mean_squared_error: 4.7972e-04\n",
      "Epoch 81/100\n",
      "11/11 [==============================] - 0s 7ms/step - loss: 0.0018 - mean_squared_error: 0.0018 - val_loss: 3.9650e-04 - val_mean_squared_error: 3.9650e-04\n",
      "Epoch 82/100\n",
      "11/11 [==============================] - 0s 6ms/step - loss: 0.0019 - mean_squared_error: 0.0019 - val_loss: 4.4822e-04 - val_mean_squared_error: 4.4822e-04\n",
      "Epoch 83/100\n",
      "11/11 [==============================] - 0s 8ms/step - loss: 0.0019 - mean_squared_error: 0.0019 - val_loss: 5.2123e-04 - val_mean_squared_error: 5.2123e-04\n",
      "Epoch 84/100\n",
      "11/11 [==============================] - 0s 8ms/step - loss: 0.0016 - mean_squared_error: 0.0016 - val_loss: 4.1254e-04 - val_mean_squared_error: 4.1254e-04\n",
      "Epoch 85/100\n",
      "11/11 [==============================] - 0s 6ms/step - loss: 0.0022 - mean_squared_error: 0.0022 - val_loss: 4.3187e-04 - val_mean_squared_error: 4.3187e-04\n",
      "Epoch 86/100\n",
      "11/11 [==============================] - 0s 6ms/step - loss: 0.0020 - mean_squared_error: 0.0020 - val_loss: 4.4320e-04 - val_mean_squared_error: 4.4320e-04\n",
      "Epoch 87/100\n",
      "11/11 [==============================] - 0s 7ms/step - loss: 0.0018 - mean_squared_error: 0.0018 - val_loss: 3.8709e-04 - val_mean_squared_error: 3.8709e-04\n",
      "Epoch 88/100\n",
      "11/11 [==============================] - 0s 7ms/step - loss: 0.0019 - mean_squared_error: 0.0019 - val_loss: 3.9291e-04 - val_mean_squared_error: 3.9291e-04\n",
      "Epoch 89/100\n",
      "11/11 [==============================] - 0s 7ms/step - loss: 0.0018 - mean_squared_error: 0.0018 - val_loss: 4.9768e-04 - val_mean_squared_error: 4.9768e-04\n",
      "Epoch 90/100\n",
      "11/11 [==============================] - 0s 6ms/step - loss: 0.0016 - mean_squared_error: 0.0016 - val_loss: 4.0474e-04 - val_mean_squared_error: 4.0474e-04\n",
      "Epoch 91/100\n",
      "11/11 [==============================] - 0s 7ms/step - loss: 0.0017 - mean_squared_error: 0.0017 - val_loss: 4.2671e-04 - val_mean_squared_error: 4.2671e-04\n",
      "Epoch 92/100\n",
      "11/11 [==============================] - 0s 6ms/step - loss: 0.0015 - mean_squared_error: 0.0015 - val_loss: 3.8423e-04 - val_mean_squared_error: 3.8423e-04\n",
      "Epoch 93/100\n",
      "11/11 [==============================] - 0s 7ms/step - loss: 0.0021 - mean_squared_error: 0.0021 - val_loss: 4.5361e-04 - val_mean_squared_error: 4.5361e-04\n",
      "Epoch 94/100\n",
      "11/11 [==============================] - 0s 7ms/step - loss: 0.0017 - mean_squared_error: 0.0017 - val_loss: 3.8314e-04 - val_mean_squared_error: 3.8314e-04\n",
      "Epoch 95/100\n",
      "11/11 [==============================] - 0s 6ms/step - loss: 0.0016 - mean_squared_error: 0.0016 - val_loss: 4.8714e-04 - val_mean_squared_error: 4.8714e-04\n",
      "Epoch 96/100\n",
      "11/11 [==============================] - 0s 6ms/step - loss: 0.0017 - mean_squared_error: 0.0017 - val_loss: 4.3280e-04 - val_mean_squared_error: 4.3280e-04\n",
      "Epoch 97/100\n",
      "11/11 [==============================] - 0s 8ms/step - loss: 0.0017 - mean_squared_error: 0.0017 - val_loss: 3.9048e-04 - val_mean_squared_error: 3.9048e-04\n",
      "Epoch 98/100\n"
     ]
    },
    {
     "name": "stdout",
     "output_type": "stream",
     "text": [
      "11/11 [==============================] - 0s 7ms/step - loss: 0.0017 - mean_squared_error: 0.0017 - val_loss: 4.8184e-04 - val_mean_squared_error: 4.8184e-04\n",
      "Epoch 99/100\n",
      "11/11 [==============================] - 0s 7ms/step - loss: 0.0016 - mean_squared_error: 0.0016 - val_loss: 4.2705e-04 - val_mean_squared_error: 4.2705e-04\n",
      "Epoch 100/100\n",
      "11/11 [==============================] - 0s 6ms/step - loss: 0.0018 - mean_squared_error: 0.0018 - val_loss: 4.1927e-04 - val_mean_squared_error: 4.1927e-04\n"
     ]
    }
   ],
   "source": [
    "history = model.fit(trainX,trainY,epochs=100,batch_size=128, verbose=1, validation_data = (valX,valY))"
   ]
  },
  {
   "cell_type": "code",
   "execution_count": 54,
   "metadata": {},
   "outputs": [
    {
     "name": "stdout",
     "output_type": "stream",
     "text": [
      "Train Score:\n",
      "MSE: 0.00020892450993414968 , RMSE: 0.014454221180476992\n",
      "Validation Score:\n",
      "MSE: 0.0004192705382592976 , RMSE: 0.020476096753514757\n",
      "Test Score:\n",
      "MSE: 0.00030079373391345143 , RMSE: 0.017343406064364963\n"
     ]
    }
   ],
   "source": [
    "import math\n",
    "\n",
    "def model_score(model, X_train, y_train, X_val, y_val , X_test, y_test):\n",
    "    print('Train Score:')\n",
    "    train_score = model.evaluate(X_train, y_train, verbose=0)\n",
    "    print(\"MSE: {0} , RMSE: {1}\".format(train_score[0], math.sqrt(train_score[0])))\n",
    "\n",
    "    print('Validation Score:')\n",
    "    val_score = model.evaluate(X_val, y_val, verbose=0)\n",
    "    print(\"MSE: {0} , RMSE: {1}\".format (val_score[0], math.sqrt(val_score[0])))\n",
    "\n",
    "    print('Test Score:')\n",
    "    test_score = model.evaluate(X_test, y_test, verbose=0)\n",
    "    print(\"MSE: {0} , RMSE: {1}\".format (test_score[0], math.sqrt(test_score[0])))\n",
    "\n",
    "\n",
    "model_score(model, trainX, trainY ,valX, valY , testX, testY)"
   ]
  },
  {
   "cell_type": "code",
   "execution_count": 56,
   "metadata": {},
   "outputs": [
    {
     "data": {
      "text/plain": [
       "dict_keys(['loss', 'mean_squared_error', 'val_loss', 'val_mean_squared_error'])"
      ]
     },
     "execution_count": 56,
     "metadata": {},
     "output_type": "execute_result"
    }
   ],
   "source": [
    "history.history.keys()"
   ]
  },
  {
   "cell_type": "code",
   "execution_count": 59,
   "metadata": {},
   "outputs": [
    {
     "data": {
      "image/png": "[encoded data removed]",
      "text/plain": [
       "<Figure size 432x288 with 1 Axes>"
      ]
     },
     "metadata": {
      "needs_background": "light"
     },
     "output_type": "display_data"
    }
   ],
   "source": [
    "plt.plot(history.history['loss'])\n",
    "plt.plot(history.history['val_loss'])\n",
    "\n",
    "plt.title('model loss')\n",
    "plt.ylabel('loss')\n",
    "plt.xlabel('epoch')\n",
    "plt.legend(['train', 'val'], loc='upper right')\n",
    "plt.show()"
   ]
  },
  {
   "cell_type": "code",
   "execution_count": 60,
   "metadata": {},
   "outputs": [
    {
     "data": {
      "image/png": "[encoded data removed]",
      "text/plain": [
       "<Figure size 432x288 with 1 Axes>"
      ]
     },
     "metadata": {
      "needs_background": "light"
     },
     "output_type": "display_data"
    }
   ],
   "source": [
    "pred = model.predict(testX)\n",
    "pred = scaler.inverse_transform(pred)\n",
    "\n",
    "testY_actual = testY.reshape(testY.shape[0] , 1)\n",
    "testY_actual = scaler.inverse_transform(testY_actual)\n",
    "\n",
    "plt.plot(testY_actual , 'b')\n",
    "plt.plot(pred , 'r')\n",
    "\n",
    "plt.xlabel('Time')\n",
    "plt.ylabel('Stock Prices')\n",
    "plt.title('Check the performance of the model with time')\n",
    "plt.legend(['Actual', 'Predicted'], loc='upper right')\n",
    "\n",
    "plt.grid(True)\n",
    "plt.show()"
   ]
  }
 ],
 "metadata": {
  "kernelspec": {
   "display_name": "Python 3",
   "language": "python",
   "name": "python3"
  },
  "language_info": {
   "codemirror_mode": {
    "name": "ipython",
    "version": 3
   },
   "file_extension": ".py",
   "mimetype": "text/x-python",
   "name": "python",
   "nbconvert_exporter": "python",
   "pygments_lexer": "ipython3",
   "version": "3.8.5"
  }
 },
 "nbformat": 4,
 "nbformat_minor": 1
}
